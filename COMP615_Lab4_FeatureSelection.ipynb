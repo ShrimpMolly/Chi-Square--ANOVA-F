{
 "cells": [
  {
   "cell_type": "code",
   "execution_count": 1,
   "id": "9319fcb9",
   "metadata": {},
   "outputs": [],
   "source": [
    "import pandas as pd\n",
    "import numpy as np\n",
    "from sklearn.model_selection import train_test_split, cross_val_score\n",
    "from sklearn.feature_selection import SelectKBest\n",
    "from sklearn.feature_selection import chi2\n",
    "import plotly.graph_objects as pgo\n",
    "import seaborn as sns\n",
    "import matplotlib.pyplot as plt\n",
    "from sklearn.preprocessing import LabelEncoder\n",
    "import category_encoders as ce\n",
    "from sklearn.preprocessing import StandardScaler\n",
    "from sklearn.preprocessing import RobustScaler\n",
    "from sklearn.feature_selection import SelectKBest\n",
    "from sklearn.feature_selection import f_classif"
   ]
  },
  {
   "cell_type": "code",
   "execution_count": null,
   "id": "083035aa",
   "metadata": {},
   "outputs": [
    {
     "name": "stdout",
     "output_type": "stream",
     "text": [
      "(1727, 7)\n",
      "  Buying  Maint Doors Persons Lug_boot Safety  class\n",
      "0  vhigh  vhigh     2       2    small    med  unacc\n",
      "1  vhigh  vhigh     2       2    small   high  unacc\n",
      "2  vhigh  vhigh     2       2      med    low  unacc\n",
      "3  vhigh  vhigh     2       2      med    med  unacc\n",
      "4  vhigh  vhigh     2       2      med   high  unacc\n"
     ]
    },
    {
     "name": "stderr",
     "output_type": "stream",
     "text": [
      "/var/folders/8l/txtmwrwx5fs5rvykj95qzxsc0000gn/T/ipykernel_9663/663640593.py:24: FutureWarning: \n",
      "\n",
      "Passing `palette` without assigning `hue` is deprecated and will be removed in v0.14.0. Assign the `x` variable to `hue` and set `legend=False` for the same effect.\n",
      "\n",
      "  ax = sns.countplot(x=\"class\", data=mycar, palette=\"flare\")\n"
     ]
    },
    {
     "data": {
      "image/png": "[encoded data removed]",
      "text/plain": [
       "<Figure size 640x480 with 1 Axes>"
      ]
     },
     "metadata": {},
     "output_type": "display_data"
    }
   ],
   "source": [
    "#Load the dataset into dataframe\n",
    "mycar = pd.read_csv('Car Evaluation Week 4 Lab.csv')\n",
    "\n",
    "# view dimensions of dataset\n",
    "print(mycar.shape)\n",
    "# preview the dataframe\n",
    "mycar.head()\n",
    "'''\n",
    "Rename column names: give proper column name \n",
    "'''\n",
    "col_names = ['Buying', 'Maint', 'Doors', 'Persons', 'Lug_boot', 'Safety','class']\n",
    "mycar.columns = col_names\n",
    "#  preview the dataframe\n",
    "print(mycar.head())\n",
    "#Check the number of missing values\n",
    "mycar.isnull().sum()\n",
    "\n",
    "#mycar['class'].value_counts()  \n",
    "X = #input/feature vector\n",
    "y = #target\n",
    "\n",
    "\n",
    "# counting values of variables in 'diagnosis'\n",
    "ax = sns.countplot(x=\"class\", data=mycar, palette=\"flare\")\n",
    "ax.set_title('Number of samples in each class ', fontsize=20)\n",
    "for p in ax.patches:\n",
    "    ax.annotate(f'\\n{p.get_height()}', (p.get_x()+0.2, p.get_height()), ha='center', va='center', color='white', size=12)\n",
    "plt.show()"
   ]
  },
  {
   "cell_type": "code",
   "execution_count": null,
   "id": "101778ae",
   "metadata": {},
   "outputs": [],
   "source": [
    "#Task Two \n",
    "print(pd.crosstab(mycar['class'], mycar.Persons))\n",
    "sns.catplot(data=mycar, x='Persons', hue='class', kind=\"count\")\n",
    "# Crosstab and barplot of safety by class\n",
    "print(pd.crosstab(******)\n",
    "sns.catplot(data=*****, x='Safety', hue='****', kind=\"****\")\n"
   ]
  },
  {
   "cell_type": "code",
   "execution_count": null,
   "id": "3bf22489",
   "metadata": {},
   "outputs": [],
   "source": [
    "#Task 3\n",
    "# Subset dataset into input and output attributes\n",
    "X = mycar[['Buying', 'Maint', 'Doors', 'Persons', 'Lug_boot', 'Safety']]\n",
    "y = mycar[['class']]\n",
    "nrows, ncols = mycar.shape\n",
    "\n",
    "encoder = ce.OrdinalEncoder(cols=['Buying', 'Maint', 'Doors', 'Persons', 'Lug_boot', 'Safety'])\n",
    "X_enc = encoder.fit_transform(X)\n",
    "\n",
    "# Split data into test and train sets\n",
    "X_train, X_test, y_train, y_test = *******"
   ]
  },
  {
   "cell_type": "code",
   "execution_count": null,
   "id": "869a6016",
   "metadata": {},
   "outputs": [],
   "source": [
    "#Task 4\n",
    "# Chi-squared feature selection\n",
    "fs = SelectKBest(score_func=chi2, k='all')\n",
    "fs.fit(X_train, y_train)\n",
    "X_train_fs = *****\n",
    "X_test_fs = *****\n",
    "\n",
    "# Scores for each feature\n",
    "print('Feature scores using Chi-square: ','\\n')\n",
    "for i in range(len(fs.scores_)):\n",
    "    print('Feature %d: %f' % (i, fs.scores_[*****]))\n",
    "# Plot scores\n",
    "labels = ['Buying', 'Maint', 'Doors', 'Persons', 'Lug_boot', 'Safety']\n",
    "fig, ax = *****\n",
    "ax.set_xlabel(\"Features\")\n",
    "ax.set_ylabel(\"Chi-Square Scores\")\n",
    "ax.set_title(\"Chi-Squared Feature Selection \")\n",
    "plt.bar([i for i in range(len(fs.*****))], fs.scores_,tick_label=*****)"
   ]
  },
  {
   "cell_type": "code",
   "execution_count": null,
   "id": "9dfb690c",
   "metadata": {},
   "outputs": [],
   "source": [
    "#Task 5 Data import and Exploartion\n",
    "#Import dataset\n",
    "BC_df = pd.read_csv('breast_cancer.csv')\n",
    "BC_df.head()\n",
    "print(\"Cancer data set dimensions : {}\".format(BC_df.shape))\n",
    "\n",
    "#Missing or Null Data points\n",
    "BC_df.isnull().*****\n",
    "BC_df.*****\n",
    "\n",
    "# show summary statistics\n",
    "#print(BC_df.describe())\n",
    "\n",
    "# counting values of variables in 'diagnosis'\n",
    "ax = sns.countplot(x=\"diagnosis\", data=*****, palette=\"flare\")\n",
    "ax.set_title('Number of samples in each class (M: Malignant, B: Benign )', fontsize=20)\n",
    "for p in ax.patches:\n",
    "    ax.annotate(f'\\n{p.get_height()}', (p.get_x()+0.2, p.get_height()), ha='center', va='top', color='white', size=18)\n",
    "plt.*****"
   ]
  },
  {
   "cell_type": "code",
   "execution_count": null,
   "id": "c3d71e55",
   "metadata": {},
   "outputs": [],
   "source": [
    "#Task 6 Data Prepration\n",
    "# Set the input (X) and output/target (y) \n",
    "X = BC_df.iloc[:, 1:31].values \n",
    "y = BC_df.iloc[:, 31].values\n",
    "\n",
    "#Encoding categorical data values\n",
    "labelencoder_y = *****\n",
    "y = labelencoder_y.fit_transform(y)\n",
    "\n",
    "X_train, X_test, y_train, y_test = train_test_split(*****)"
   ]
  },
  {
   "cell_type": "code",
   "execution_count": null,
   "id": "61858c82",
   "metadata": {},
   "outputs": [],
   "source": [
    "#Task 7 ANOVA FEATURE SELECTION\n",
    "# Ranking of all features based on ANOVA F-scores\n",
    "\n",
    "fs = SelectKBest(score_func=f_classif, k=30) \n",
    "fs.fit(X_train,*****)\n",
    "# transform train input data\n",
    "X_train_fs = fs.transform(X_train)\n",
    "# transform test input data\n",
    "X_test_fs = fs.*****\n",
    "\n",
    "fs_score_df=pd.DataFrame()\n",
    "feature_no=0\n",
    "feature_score=0\n",
    "for i in range(len(fs.scores_)):\n",
    "    print('Feature %d: %f' % (i, fs.scores_[i]))\n",
    "    fs_score_df = fs_score_df.append({feature_no:i,feature_score:fs.scores_[i]}, ignore_index=True)\n",
    "    \n",
    "# plot the scores\n",
    "plt.bar([i for i in range(len(fs.scores_))], fs.scores_)\n",
    "plt.show()\n",
    "\n",
    "\n",
    "fs_score_df['Feature Name']=BC_df.columns[1:31]\n",
    "fs_score_df.rename( columns={0:'Score'}, inplace=True )\n",
    "fs_score_df=fs_score_df.sort_values(by=['Score'], ascending=False)\n",
    "fs_score_df # Feature ranking based on ANOVA Feature selection"
   ]
  },
  {
   "cell_type": "code",
   "execution_count": null,
   "id": "080fce5f",
   "metadata": {},
   "outputs": [],
   "source": []
  }
 ],
 "metadata": {
  "kernelspec": {
   "display_name": "base",
   "language": "python",
   "name": "python3"
  },
  "language_info": {
   "codemirror_mode": {
    "name": "ipython",
    "version": 3
   },
   "file_extension": ".py",
   "mimetype": "text/x-python",
   "name": "python",
   "nbconvert_exporter": "python",
   "pygments_lexer": "ipython3",
   "version": "3.12.4"
  }
 },
 "nbformat": 4,
 "nbformat_minor": 5
}
